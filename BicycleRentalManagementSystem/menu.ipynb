{
 "cells": [
  {
   "cell_type": "markdown",
   "metadata": {},
   "source": [
    "# <u>Bicycle Rental Management System Code Review and Enhancements</u>\n",
    "## Objective\n",
    "- This session of this project focuses  on developing and refining components of the Bicycle Rental Management System to enable efficient database management, bicycle search functionality, and purchase recommendations. This enables a  user-friendly search,select and rental interface with advanced filtering and suggestion features."
   ]
  },
  {
   "cell_type": "markdown",
   "metadata": {
    "vscode": {
     "languageId": "plaintext"
    }
   },
   "source": [
    "## SEARCHING FOR BIKE BUTTON"
   ]
  },
  {
   "cell_type": "code",
   "execution_count": 1,
   "metadata": {},
   "outputs": [
    {
     "data": {
      "application/vnd.jupyter.widget-view+json": {
       "model_id": "33ad3ce83ff04433a9f1d6e03016325c",
       "version_major": 2,
       "version_minor": 0
      },
      "text/plain": [
       "HTML(value='<h3>Search Bicycles</h3>')"
      ]
     },
     "metadata": {},
     "output_type": "display_data"
    },
    {
     "data": {
      "application/vnd.jupyter.widget-view+json": {
       "model_id": "477d531b69a34e70ab10048dad4b9408",
       "version_major": 2,
       "version_minor": 0
      },
      "text/plain": [
       "Output()"
      ]
     },
     "metadata": {},
     "output_type": "display_data"
    },
    {
     "data": {
      "application/vnd.jupyter.widget-view+json": {
       "model_id": "433d0fe771c046fe981bf3bcae5c01ec",
       "version_major": 2,
       "version_minor": 0
      },
      "text/plain": [
       "Text(value='', description='Brand')"
      ]
     },
     "metadata": {},
     "output_type": "display_data"
    },
    {
     "data": {
      "application/vnd.jupyter.widget-view+json": {
       "model_id": "47ad2fb4096b45419da209fa11d91c6d",
       "version_major": 2,
       "version_minor": 0
      },
      "text/plain": [
       "Text(value='', description='Type')"
      ]
     },
     "metadata": {},
     "output_type": "display_data"
    },
    {
     "data": {
      "application/vnd.jupyter.widget-view+json": {
       "model_id": "6a9a9f2f64294df4b294e76e58309bba",
       "version_major": 2,
       "version_minor": 0
      },
      "text/plain": [
       "Dropdown(description='Status', options=('Available', 'Rented', 'Under Maintenance'), value='Available')"
      ]
     },
     "metadata": {},
     "output_type": "display_data"
    },
    {
     "data": {
      "application/vnd.jupyter.widget-view+json": {
       "model_id": "ce40e25914fc4b7d9a46556205d21900",
       "version_major": 2,
       "version_minor": 0
      },
      "text/plain": [
       "Dropdown(description='Condition', options=('New', 'Good', 'Fair', 'Damaged'), value='New')"
      ]
     },
     "metadata": {},
     "output_type": "display_data"
    },
    {
     "data": {
      "application/vnd.jupyter.widget-view+json": {
       "model_id": "46919f3ebc6b484fbab588cfefc1a4d0",
       "version_major": 2,
       "version_minor": 0
      },
      "text/plain": [
       "IntText(value=0, description='Min Rate')"
      ]
     },
     "metadata": {},
     "output_type": "display_data"
    },
    {
     "data": {
      "application/vnd.jupyter.widget-view+json": {
       "model_id": "9805590f7e424a518b7b2bf11fcab4cb",
       "version_major": 2,
       "version_minor": 0
      },
      "text/plain": [
       "IntText(value=0, description='Max Rate')"
      ]
     },
     "metadata": {},
     "output_type": "display_data"
    },
    {
     "data": {
      "application/vnd.jupyter.widget-view+json": {
       "model_id": "17a38261ce5348859b3171a6c27a0405",
       "version_major": 2,
       "version_minor": 0
      },
      "text/plain": [
       "Dropdown(description='Sort By', options=('BRAND', 'TYPE', 'RENTAL_RATE', 'CONDITION'), value='BRAND')"
      ]
     },
     "metadata": {},
     "output_type": "display_data"
    },
    {
     "data": {
      "application/vnd.jupyter.widget-view+json": {
       "model_id": "84ae7f56557e4860952bc3a6724ae35b",
       "version_major": 2,
       "version_minor": 0
      },
      "text/plain": [
       "Button(description='Execute Search', style=ButtonStyle())"
      ]
     },
     "metadata": {},
     "output_type": "display_data"
    }
   ],
   "source": [
    "# Import necessary libraries\n",
    "import ipywidgets as widgets\n",
    "from IPython.display import display, clear_output\n",
    "from database import DatabaseManager  # Ensure you have your database manager set up\n",
    "\n",
    "# Create an instance of DatabaseManager\n",
    "db_manager = DatabaseManager()\n",
    "\n",
    "# Create the main \"Search\" button\n",
    "search_button = widgets.Button(\n",
    "    description=\"Search for a Bicycle\",\n",
    "    button_style='info',  # Optional styling\n",
    "    tooltip=\"Click to search for bicycles\",\n",
    "    icon=\"search\"  # Optional icon\n",
    ")\n",
    "\n",
    "# Define the function that runs when search_button is clicked\n",
    "def on_search_click(b):\n",
    "    clear_output()  # Clear previous output\n",
    "    display(widgets.HTML(\"<h3>Search Bicycles</h3>\"))  # Display the title\n",
    "\n",
    "    # Create input fields for search criteria\n",
    "    brand_input = widgets.Text(description=\"Brand\")\n",
    "    type_input = widgets.Text(description=\"Type\")\n",
    "    status_input = widgets.Dropdown(\n",
    "        options=[\"Available\", \"Rented\", \"Under Maintenance\"],\n",
    "        description=\"Status\"\n",
    "    )\n",
    "    condition_input = widgets.Dropdown(\n",
    "        options=[\"New\", \"Good\", \"Fair\", \"Damaged\"],\n",
    "        description=\"Condition\"\n",
    "    )\n",
    "    min_rate_input = widgets.IntText(description=\"Min Rate\", value=0)\n",
    "    max_rate_input = widgets.IntText(description=\"Max Rate\", value=0)\n",
    "    sort_by_input = widgets.Dropdown(\n",
    "        options=[\"BRAND\", \"TYPE\", \"RENTAL_RATE\", \"CONDITION\"],\n",
    "        description=\"Sort By\"\n",
    "    )\n",
    "    \n",
    "    # Create a button to execute the search\n",
    "    search_execute_button = widgets.Button(description=\"Execute Search\")\n",
    "    error_output = widgets.Output()  # Output for error messages\n",
    "    display(error_output)\n",
    "\n",
    "    # Define the function to perform the search\n",
    "    def perform_search(e):\n",
    "        brand = brand_input.value.strip()\n",
    "        bike_type = type_input.value.strip()\n",
    "        status = status_input.value.strip()\n",
    "        condition = condition_input.value.strip()\n",
    "        \n",
    "        # Validate rate inputs\n",
    "        min_rate = min_rate_input.value\n",
    "        max_rate = max_rate_input.value\n",
    "        \n",
    "        with error_output:\n",
    "            clear_output()  # Clear previous error messages\n",
    "            if min_rate < 0:\n",
    "                print(\"Error: Minimum rate cannot be negative.\")\n",
    "                return\n",
    "            if max_rate < 0:\n",
    "                print(\"Error: Maximum rate cannot be negative.\")\n",
    "                return\n",
    "            if min_rate > max_rate and max_rate != 0:\n",
    "                print(\"Error: Maximum rate must be greater than or equal to minimum rate.\")\n",
    "                return\n",
    "            \n",
    "            sort_by = sort_by_input.value\n",
    "            \n",
    "            # Execute the search query against the database\n",
    "            results = db_manager.search_bicycles(\n",
    "                brand=brand, \n",
    "                bike_type=bike_type, \n",
    "                status=status, \n",
    "                condition=condition, \n",
    "                min_rate=min_rate, \n",
    "                max_rate=max_rate, \n",
    "                sort_by=sort_by\n",
    "            )\n",
    "\n",
    "            # Display the search results\n",
    "            clear_output()  # Clear output for a fresh display\n",
    "            print(\"Searching with criteria:\")\n",
    "            print(f\"Brand: {brand}, Type: {bike_type}, Status: {status}, Condition: {condition}\")\n",
    "            print(f\"Min Rate: {min_rate}, Max Rate: {max_rate}, Sort By: {sort_by}\")\n",
    "\n",
    "            if not results.empty:\n",
    "                print(\"\\nAvailable Bicycles:\")\n",
    "                display(results)\n",
    "            else:\n",
    "                print(\"No exact matches found.\")\n",
    "                print(\"Would you like to see similar bicycles?\")\n",
    "                similar_bikes = db_manager.suggest_similar_bicycles(brand, bike_type, status, condition)\n",
    "                if not similar_bikes.empty:\n",
    "                    print(\"Similar bicycles found:\")\n",
    "                    display(similar_bikes)\n",
    "\n",
    "    # Display all search fields and execution button\n",
    "    display(brand_input, type_input, status_input, condition_input, \n",
    "            min_rate_input, max_rate_input, sort_by_input, search_execute_button)\n",
    "    \n",
    "    # Link the search execution button to the perform_search function\n",
    "    search_execute_button.on_click(perform_search)\n",
    "\n",
    "# Link the main search button to the on_search_click function\n",
    "search_button.on_click(on_search_click)\n",
    "\n",
    "# Display the main search button\n",
    "display(search_button)\n",
    "\n"
   ]
  },
  {
   "cell_type": "markdown",
   "metadata": {},
   "source": [
    "## RENTING BIKE BUTTON"
   ]
  },
  {
   "cell_type": "code",
   "execution_count": null,
   "metadata": {},
   "outputs": [
    {
     "data": {
      "application/vnd.jupyter.widget-view+json": {
       "model_id": "370f2d6ab27e44a29ba6e9c6a80f3810",
       "version_major": 2,
       "version_minor": 0
      },
      "text/plain": [
       "HTML(value='<h3>Rent a Bicycle</h3>')"
      ]
     },
     "metadata": {},
     "output_type": "display_data"
    },
    {
     "data": {
      "application/vnd.jupyter.widget-view+json": {
       "model_id": "2aef880ae7d740aa801bf8c499f18546",
       "version_major": 2,
       "version_minor": 0
      },
      "text/plain": [
       "IntText(value=0, description='Bicycle ID')"
      ]
     },
     "metadata": {},
     "output_type": "display_data"
    },
    {
     "data": {
      "application/vnd.jupyter.widget-view+json": {
       "model_id": "9eaa1b0de31c464791f27368f74f3d52",
       "version_major": 2,
       "version_minor": 0
      },
      "text/plain": [
       "IntText(value=0, description='Member ID')"
      ]
     },
     "metadata": {},
     "output_type": "display_data"
    },
    {
     "data": {
      "application/vnd.jupyter.widget-view+json": {
       "model_id": "63f47efab93245c8b9881270118582d4",
       "version_major": 2,
       "version_minor": 0
      },
      "text/plain": [
       "DatePicker(value=datetime.date(2024, 11, 2), description='Rental Date', step=1)"
      ]
     },
     "metadata": {},
     "output_type": "display_data"
    },
    {
     "data": {
      "application/vnd.jupyter.widget-view+json": {
       "model_id": "fc76ad7c781f433f933345cfb5ce7233",
       "version_major": 2,
       "version_minor": 0
      },
      "text/plain": [
       "IntText(value=1, description='Rental Duration (Days)')"
      ]
     },
     "metadata": {},
     "output_type": "display_data"
    },
    {
     "data": {
      "application/vnd.jupyter.widget-view+json": {
       "model_id": "763704b1f04a42ab9089476e2e485f5c",
       "version_major": 2,
       "version_minor": 0
      },
      "text/plain": [
       "Button(description='Rent', style=ButtonStyle())"
      ]
     },
     "metadata": {},
     "output_type": "display_data"
    }
   ],
   "source": [
    "# Import necessary libraries\n",
    "import ipywidgets as widgets\n",
    "from IPython.display import display, clear_output\n",
    "from datetime import date, timedelta\n",
    "\n",
    "# Create the main \"Rent a Bicycle\" button\n",
    "rent_button = widgets.Button(\n",
    "    description=\"Rent a Bicycle\",\n",
    "    button_style='success',\n",
    "    tooltip=\"Click to rent a bicycle\",\n",
    "    icon=\"bicycle\"\n",
    ")\n",
    "\n",
    "# Define the function that runs when rent_button is clicked\n",
    "def on_rent_click(b):\n",
    "    clear_output()  # Clear previous outputs\n",
    "    display(widgets.HTML(\"<h3>Rent a Bicycle</h3>\"))  # Display the section header\n",
    "\n",
    "    # Input fields for renting a bicycle\n",
    "    bicycle_id_input = widgets.IntText(description=\"Bicycle ID\", placeholder=\"Enter Bicycle ID\")\n",
    "    member_id_input = widgets.IntText(description=\"Member ID\", placeholder=\"Enter Member ID\")\n",
    "    rental_date_input = widgets.DatePicker(description=\"Rental Date\", value=date.today())\n",
    "    rental_duration_input = widgets.IntText(description=\"Rental Duration (Days)\", value=1, min=1)  # Duration input\n",
    "    rent_execute_button = widgets.Button(description=\"Rent\")\n",
    "\n",
    "    # Function to handle the rental logic\n",
    "    def perform_rent(e):\n",
    "        bicycle_id = bicycle_id_input.value\n",
    "        member_id = member_id_input.value\n",
    "        rental_date = rental_date_input.value\n",
    "        rental_duration = rental_duration_input.value\n",
    "\n",
    "        # Input validation\n",
    "        if bicycle_id <= 0 or member_id <= 0:\n",
    "            print(\"Error: Bicycle ID and Member ID must be positive integers.\")\n",
    "            return\n",
    "        if rental_date is None:\n",
    "            print(\"Error: Please select a valid rental date.\")\n",
    "            return\n",
    "\n",
    "        # Check bicycle availability (you would normally check this against a database)\n",
    "        if not is_bicycle_available(bicycle_id):\n",
    "            print(f\"Error: Bicycle ID {bicycle_id} is not available for rental.\")\n",
    "            return\n",
    "\n",
    "        # Assuming a fixed rental rate for demonstration\n",
    "        rental_rate = 25  # Example fixed rate per day\n",
    "        total_cost = rental_rate * rental_duration\n",
    "\n",
    "        # Here you would typically call a method from your BikeRent class\n",
    "        # bike_rent_manager.rent_bike(bicycle_id, member_id, rental_date, rental_duration)\n",
    "        \n",
    "        # Provide feedback to the user\n",
    "        print(f\"Successfully rented Bicycle ID: {bicycle_id}\")\n",
    "        print(f\"Member ID: {member_id}\")\n",
    "        print(f\"Rental Date: {rental_date}\")\n",
    "        print(f\"Rental Duration: {rental_duration} days\")\n",
    "        print(f\"Total Cost: ${total_cost:.2f}\")\n",
    "\n",
    "        # Clear input fields after submission\n",
    "        bicycle_id_input.value = 0\n",
    "        member_id_input.value = 0\n",
    "        rental_date_input.value = date.today()\n",
    "        rental_duration_input.value = 1\n",
    "\n",
    "    # Display input fields and button\n",
    "    display(bicycle_id_input, member_id_input, rental_date_input, rental_duration_input, rent_execute_button)\n",
    "\n",
    "    # Link the button click to the perform_rent function\n",
    "    rent_execute_button.on_click(perform_rent)\n",
    "\n",
    "# Dummy function to check bicycle availability\n",
    "def is_bicycle_available(bicycle_id):\n",
    "    # This function should query the database to check if the bicycle is available\n",
    "    # For now, we'll simulate that all bicycles are available\n",
    "    return True\n",
    "\n",
    "# Link button click to the on_rent_click function\n",
    "rent_button.on_click(on_rent_click)\n",
    "\n",
    "# Display the rent button\n",
    "display(rent_button)\n",
    "\n",
    "\n"
   ]
  },
  {
   "cell_type": "markdown",
   "metadata": {},
   "source": [
    "## RETURNING BIKE BUTTON"
   ]
  },
  {
   "cell_type": "code",
   "execution_count": 7,
   "metadata": {},
   "outputs": [
    {
     "data": {
      "text/html": [
       "\n",
       "    <style>\n",
       "        .return-button {\n",
       "            background-color: #ffcc00;  /* Bright yellow */\n",
       "            color: black;                 /* Black text */\n",
       "            font-weight: bold;\n",
       "            border-radius: 5px;\n",
       "            padding: 10px 15px;\n",
       "            font-size: 16px;\n",
       "        }\n",
       "        .return-button:hover {\n",
       "            background-color: #e6b800;   /* Darker yellow on hover */\n",
       "        }\n",
       "        .input-field {\n",
       "            margin: 5px 0;               /* Space between input fields */\n",
       "            width: 300px;                 /* Fixed width for input fields */\n",
       "        }\n",
       "        .confirmation-box {\n",
       "            background-color: #f2f2f2;   /* Light gray background */\n",
       "            border: 1px solid #ccc;      /* Border around the confirmation box */\n",
       "            border-radius: 5px;\n",
       "            padding: 15px;\n",
       "            margin-top: 10px;\n",
       "        }\n",
       "        .confirmation-button {\n",
       "            background-color: #4CAF50;   /* Green background */\n",
       "            color: white;                 /* White text */\n",
       "            padding: 10px 15px;\n",
       "            border: none;\n",
       "            border-radius: 5px;\n",
       "            font-size: 16px;\n",
       "            cursor: pointer;\n",
       "        }\n",
       "        .confirmation-button:hover {\n",
       "            background-color: #45a049;    /* Darker green on hover */\n",
       "        }\n",
       "    </style>\n",
       "    "
      ],
      "text/plain": [
       "<IPython.core.display.HTML object>"
      ]
     },
     "metadata": {},
     "output_type": "display_data"
    },
    {
     "data": {
      "application/vnd.jupyter.widget-view+json": {
       "model_id": "e966c4d0cb76480c9b4dccbddc8b8abe",
       "version_major": 2,
       "version_minor": 0
      },
      "text/plain": [
       "Button(description='Return a Bicycle', icon='undo', layout=Layout(height='40px', width='auto'), style=ButtonSt…"
      ]
     },
     "metadata": {},
     "output_type": "display_data"
    }
   ],
   "source": [
    "import ipywidgets as widgets\n",
    "from IPython.display import display, clear_output, HTML\n",
    "\n",
    "# adding CSS for styling\n",
    "def apply_custom_css():\n",
    "    style = \"\"\"\n",
    "    <style>\n",
    "        .return-button {\n",
    "            background-color: #ffcc00;  /* Bright yellow */\n",
    "            color: black;                 /* Black text */\n",
    "            font-weight: bold;\n",
    "            border-radius: 5px;\n",
    "            padding: 10px 15px;\n",
    "            font-size: 16px;\n",
    "        }\n",
    "        .return-button:hover {\n",
    "            background-color: #e6b800;   /* Darker yellow on hover */\n",
    "        }\n",
    "        .input-field {\n",
    "            margin: 5px 0;               /* Space between input fields */\n",
    "            width: 300px;                 /* Fixed width for input fields */\n",
    "        }\n",
    "        .confirmation-box {\n",
    "            background-color: #f2f2f2;   /* Light gray background */\n",
    "            border: 1px solid #ccc;      /* Border around the confirmation box */\n",
    "            border-radius: 5px;\n",
    "            padding: 15px;\n",
    "            margin-top: 10px;\n",
    "        }\n",
    "        .confirmation-button {\n",
    "            background-color: #4CAF50;   /* Green background */\n",
    "            color: white;                 /* White text */\n",
    "            padding: 10px 15px;\n",
    "            border: none;\n",
    "            border-radius: 5px;\n",
    "            font-size: 16px;\n",
    "            cursor: pointer;\n",
    "        }\n",
    "        .confirmation-button:hover {\n",
    "            background-color: #45a049;    /* Darker green on hover */\n",
    "        }\n",
    "    </style>\n",
    "    \"\"\"\n",
    "    display(HTML(style))\n",
    "\n",
    "# Creating the main \"Return Bicycle\" button\n",
    "return_button = widgets.Button(\n",
    "    description=\"Return a Bicycle\",\n",
    "    button_style='',  # Use empty string to apply custom styling\n",
    "    tooltip=\"Click to return a bicycle\",\n",
    "    icon=\"undo\",\n",
    "    layout=widgets.Layout(width='auto', height='40px'),\n",
    "    style={'button_color': '#ffcc00'}  # Default button color\n",
    ")\n",
    "\n",
    "# Defining the function that runs when return_button is clicked\n",
    "def on_return_click(b):\n",
    "    clear_output()  # Clear previous outputs\n",
    "    display(HTML(\"<h3>Return a Bicycle</h3>\"))  # Display the section header\n",
    "\n",
    "    # Inputing field for Bicycle ID\n",
    "    bicycle_id_input = widgets.IntText(description=\"Bicycle ID\", placeholder=\"Enter Bicycle ID\", layout=widgets.Layout(width='300px'), style={'description_width': 'initial'})\n",
    "    return_date_input = widgets.DatePicker(description=\"Return Date\", layout=widgets.Layout(width='300px'), style={'description_width': 'initial'})  # Optional return date input\n",
    "    condition_input = widgets.Dropdown(\n",
    "        options=[\"Good\", \"Fair\", \"Damaged\"],\n",
    "        description=\"Condition\",\n",
    "        layout=widgets.Layout(width='300px'),\n",
    "        style={'description_width': 'initial'}\n",
    "    )\n",
    "    damage_fee_input = widgets.FloatText(description=\"Damage Fee\", value=0.0, layout=widgets.Layout(width='300px'), style={'description_width': 'initial'})  # Input for damage fee\n",
    "    comments_input = widgets.Textarea(\n",
    "        description=\"Comments\",\n",
    "        placeholder=\"Additional comments or notes about the return\",\n",
    "        layout=widgets.Layout(width='300px', height='100px'),\n",
    "        style={'description_width': 'initial'}\n",
    "    )\n",
    "    return_execute_button = widgets.Button(description=\"Return\", button_style='warning', layout=widgets.Layout(width='auto', height='40px'))  # Button to execute return action\n",
    "\n",
    "    # Function to handle the confirmation of the return\n",
    "    def confirm_return(e):\n",
    "        confirmation_box = widgets.VBox([\n",
    "            widgets.HTML(\"<b>Are you sure you want to return this bicycle?</b>\"),\n",
    "            widgets.Button(description=\"Confirm\", button_style='success', layout=widgets.Layout(width='auto', height='40px')),\n",
    "            widgets.Button(description=\"Cancel\", button_style='danger', layout=widgets.Layout(width='auto', height='40px'))\n",
    "        ], layout=widgets.Layout(border='solid 1px #ccc', padding='10px', width='320px', margin='10px 0'))\n",
    "\n",
    "        display(confirmation_box)\n",
    "\n",
    "        # Function to perform the return logic\n",
    "        def perform_return_confirm(e):\n",
    "            bicycle_id = bicycle_id_input.value\n",
    "            return_date = return_date_input.value\n",
    "            condition = condition_input.value\n",
    "            damage_fee = damage_fee_input.value\n",
    "            comments = comments_input.value\n",
    "            \n",
    "            # Here you would call the return method on the return_manager\n",
    "            # For now, we are just printing the values\n",
    "            print(f\"Returning Bicycle ID: {bicycle_id}\")\n",
    "            print(f\"Return Date: {return_date}\")\n",
    "            print(f\"Condition: {condition}\")\n",
    "            print(f\"Damage Fee: ${damage_fee:.2f}\")\n",
    "            print(f\"Comments: {comments}\")\n",
    "            clear_output()  # Clear the input fields and confirmation box\n",
    "            display(HTML(\"<h4>Bicycle returned successfully!</h4>\"))  # Success message\n",
    "        \n",
    "        # Linking the  confirm button \n",
    "        confirmation_box.children[1].on_click(perform_return_confirm)  # Confirm button\n",
    "        confirmation_box.children[2].on_click(lambda e: clear_output())  # Cancel button\n",
    "\n",
    "    # Displaying input fields and button\n",
    "    display(bicycle_id_input, return_date_input, condition_input, damage_fee_input, comments_input, return_execute_button)\n",
    "\n",
    "    # Linking the button click to the confirm_return function\n",
    "    return_execute_button.on_click(confirm_return)\n",
    "\n",
    "# Linking  button click to the on_return_click function\n",
    "return_button.on_click(on_return_click)\n",
    "\n",
    "# Applying  CSS styles\n",
    "apply_custom_css()\n",
    "\n",
    "# Displaying the return button\n",
    "display(return_button)\n"
   ]
  },
  {
   "cell_type": "markdown",
   "metadata": {},
   "source": [
    "## SELECT BIKE FOR PURCHASE ORDER"
   ]
  },
  {
   "cell_type": "code",
   "execution_count": 8,
   "metadata": {},
   "outputs": [
    {
     "name": "stdout",
     "output_type": "stream",
     "text": [
      "BikeSelector initialized.\n"
     ]
    },
    {
     "data": {
      "application/vnd.jupyter.widget-view+json": {
       "model_id": "2d7bb625a05445d89da0b3c17429ad75",
       "version_major": 2,
       "version_minor": 0
      },
      "text/plain": [
       "Button(button_style='info', description='Select Bicycles for Purchase Order', icon='shopping-cart', style=Butt…"
      ]
     },
     "metadata": {},
     "output_type": "display_data"
    }
   ],
   "source": [
    "import pandas as pd\n",
    "import ipywidgets as widgets\n",
    "from IPython.display import display, clear_output, HTML\n",
    "\n",
    "# Define the BikeSelector class\n",
    "class BikeSelector:\n",
    "    def __init__(self):\n",
    "        # Initialize any necessary attributes\n",
    "        print(\"BikeSelector initialized.\")\n",
    "        \n",
    "    def recommend_purchases(self, budget):\n",
    "        # Placeholder for recommendation logic\n",
    "        # In a real scenario, replace this with actual recommendation logic based on bike inventory and rental data\n",
    "        print(f\"Generating recommendations for budget: {budget}\")\n",
    "        if budget <= 100:\n",
    "            return pd.DataFrame(columns=[\"Type\", \"Units\", \"Estimated Cost\"])  # No recommendations if budget is too low\n",
    "        else:\n",
    "            return pd.DataFrame({\"Type\": [\"Mountain Bike\", \"Road Bike\"], \"Units\": [2, 3], \"Estimated Cost\": [200, 300]})\n",
    "\n",
    "# Create an instance of BikeSelector\n",
    "selector_manager = BikeSelector()\n",
    "\n",
    "# Create the main \"Select Bicycles for Purchase Order\" button\n",
    "purchase_button = widgets.Button(\n",
    "    description=\"Select Bicycles for Purchase Order\",\n",
    "    button_style='info',  # Button style can be 'info', 'success', 'warning', etc.\n",
    "    tooltip=\"Click to select bicycles for purchase order\",\n",
    "    icon=\"shopping-cart\"\n",
    ")\n",
    "\n",
    "# Function to handle button clicks\n",
    "def on_purchase_click(b):\n",
    "    clear_output()\n",
    "    display(HTML(\"<h3>Select Bicycles for Purchase Order</h3>\"))\n",
    "\n",
    "    # Input field for budget\n",
    "    budget_input = widgets.IntText(description=\"Budget\", placeholder=\"Enter your budget\")\n",
    "    purchase_execute_button = widgets.Button(description=\"Recommend Purchases\")\n",
    "\n",
    "    # Function to get purchase recommendations\n",
    "    def perform_purchase(e):\n",
    "        budget = budget_input.value\n",
    "        if budget <= 0:\n",
    "            print(\"Please enter a valid budget greater than zero.\")\n",
    "            return\n",
    "        \n",
    "        # Call the recommend_purchases method on the selector_manager\n",
    "        recommendations = selector_manager.recommend_purchases(budget)\n",
    "        \n",
    "        if recommendations.empty:\n",
    "            print(\"No recommendations available within your budget.\")\n",
    "        else:\n",
    "            print(\"Recommendations for your budget:\")\n",
    "            display(recommendations)\n",
    "\n",
    "    # Display input fields and button\n",
    "    display(budget_input, purchase_execute_button)\n",
    "    purchase_execute_button.on_click(perform_purchase)\n",
    "\n",
    "# Link button click to the function\n",
    "purchase_button.on_click(on_purchase_click)\n",
    "\n",
    "# Display the purchase button\n",
    "display(purchase_button)\n"
   ]
  },
  {
   "cell_type": "markdown",
   "metadata": {},
   "source": [
    "# EXIT BIKE APPLICATION"
   ]
  },
  {
   "cell_type": "code",
   "execution_count": 9,
   "metadata": {},
   "outputs": [
    {
     "name": "stdout",
     "output_type": "stream",
     "text": [
      "BikeSelector initialized.\n"
     ]
    },
    {
     "data": {
      "application/vnd.jupyter.widget-view+json": {
       "model_id": "aa6a574621294b41b3e312421d0e6896",
       "version_major": 2,
       "version_minor": 0
      },
      "text/plain": [
       "Button(button_style='info', description='Select Bicycles for Purchase Order', icon='shopping-cart', style=Butt…"
      ]
     },
     "metadata": {},
     "output_type": "display_data"
    },
    {
     "data": {
      "application/vnd.jupyter.widget-view+json": {
       "model_id": "1f4370f2f1774708a75b9d2c3d312df0",
       "version_major": 2,
       "version_minor": 0
      },
      "text/plain": [
       "Button(button_style='danger', description='Exit', icon='exit', style=ButtonStyle(), tooltip='Click to exit the…"
      ]
     },
     "metadata": {},
     "output_type": "display_data"
    }
   ],
   "source": [
    "import pandas as pd\n",
    "import ipywidgets as widgets\n",
    "from IPython.display import display, clear_output, HTML\n",
    "\n",
    "# Define the BikeSelector class\n",
    "class BikeSelector:\n",
    "    def __init__(self):\n",
    "        # Initialize any necessary attributes\n",
    "        print(\"BikeSelector initialized.\")\n",
    "        \n",
    "    def recommend_purchases(self, budget):\n",
    "        # Placeholder for recommendation logic\n",
    "        print(f\"Generating recommendations for budget: {budget}\")\n",
    "        if budget <= 100:\n",
    "            return pd.DataFrame(columns=[\"Type\", \"Units\", \"Estimated Cost\"])  # No recommendations if budget is too low\n",
    "        else:\n",
    "            return pd.DataFrame({\"Type\": [\"Mountain Bike\", \"Road Bike\"], \"Units\": [2, 3], \"Estimated Cost\": [200, 300]})\n",
    "\n",
    "# Create an instance of BikeSelector\n",
    "selector_manager = BikeSelector()\n",
    "\n",
    "# Create the main \"Select Bicycles for Purchase Order\" button\n",
    "purchase_button = widgets.Button(\n",
    "    description=\"Select Bicycles for Purchase Order\",\n",
    "    button_style='info',  # Button style can be 'info', 'success', 'warning', etc.\n",
    "    tooltip=\"Click to select bicycles for purchase order\",\n",
    "    icon=\"shopping-cart\"\n",
    ")\n",
    "\n",
    "# Function to handle button clicks for purchase\n",
    "def on_purchase_click(b):\n",
    "    clear_output()\n",
    "    display(HTML(\"<h3>Select Bicycles for Purchase Order</h3>\"))\n",
    "\n",
    "    # Input field for budget\n",
    "    budget_input = widgets.IntText(description=\"Budget\", placeholder=\"Enter your budget\")\n",
    "    purchase_execute_button = widgets.Button(description=\"Recommend Purchases\")\n",
    "\n",
    "    # Function to get purchase recommendations\n",
    "    def perform_purchase(e):\n",
    "        budget = budget_input.value\n",
    "        if budget <= 0:\n",
    "            print(\"Please enter a valid budget greater than zero.\")\n",
    "            return\n",
    "        \n",
    "        # Call the recommend_purchases method on the selector_manager\n",
    "        recommendations = selector_manager.recommend_purchases(budget)\n",
    "        \n",
    "        if recommendations.empty:\n",
    "            print(\"No recommendations available within your budget.\")\n",
    "        else:\n",
    "            print(\"Recommendations for your budget:\")\n",
    "            display(recommendations)\n",
    "\n",
    "    # Display input fields and button\n",
    "    display(budget_input, purchase_execute_button)\n",
    "    purchase_execute_button.on_click(perform_purchase)\n",
    "\n",
    "# Link purchase button click to the function\n",
    "purchase_button.on_click(on_purchase_click)\n",
    "\n",
    "# Create the main \"Exit\" button\n",
    "exit_button = widgets.Button(\n",
    "    description=\"Exit\",\n",
    "    button_style='danger',  # Button style for emphasis\n",
    "    tooltip=\"Click to exit the application\",\n",
    "    icon=\"exit\"\n",
    ")\n",
    "\n",
    "# Function to handle exit button click\n",
    "def on_exit_click(b):\n",
    "    clear_output()\n",
    "    print(\"Thank you for using the Bicycle Rental Management System!\")\n",
    "\n",
    "# Link exit button click to the function\n",
    "exit_button.on_click(on_exit_click)\n",
    "\n",
    "# Display the purchase button and exit button\n",
    "display(purchase_button, exit_button)\n"
   ]
  }
 ],
 "metadata": {
  "kernelspec": {
   "display_name": "environment",
   "language": "python",
   "name": "python3"
  },
  "language_info": {
   "codemirror_mode": {
    "name": "ipython",
    "version": 3
   },
   "file_extension": ".py",
   "mimetype": "text/x-python",
   "name": "python",
   "nbconvert_exporter": "python",
   "pygments_lexer": "ipython3",
   "version": "3.11.10"
  }
 },
 "nbformat": 4,
 "nbformat_minor": 2
}
